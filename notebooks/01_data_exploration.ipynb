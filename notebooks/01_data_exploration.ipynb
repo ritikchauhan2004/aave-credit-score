{
 "cells": [
  {
   "cell_type": "markdown",
   "id": "37e2f8bc",
   "metadata": {},
   "source": [
    "# 🧪 01 - Data Exploration\n",
    "\n",
    "This notebook helps you explore the structure and content of the raw Aave transaction dataset (`user_transactions.json`).\n",
    "\n",
    "We'll:\n",
    "- Load a sample from the raw JSON\n",
    "- Explore the schema and transaction types\n",
    "- Analyze wallet activity\n",
    "- Plot transaction trends and statistics\n"
   ]
  },
  {
   "cell_type": "code",
   "execution_count": null,
   "id": "b911c582",
   "metadata": {},
   "outputs": [],
   "source": [
    "import pandas as pd\n",
    "import matplotlib.pyplot as plt\n",
    "import seaborn as sns\n",
    "import os\n",
    "from collections import Counter\n",
    "import json\n",
    "sns.set_theme(style=\"whitegrid\")\n"
   ]
  },
  {
   "cell_type": "code",
   "execution_count": null,
   "id": "1a0aa9aa",
   "metadata": {},
   "outputs": [
    {
     "name": "stdout",
     "output_type": "stream",
     "text": [
      "Loaded 100,000 lines.\n"
     ]
    }
   ],
   "source": [
    "raw_path = \"data\\raw\\user_transactions.json\"\n",
    "\n",
    "with open(raw_path, 'r') as f:\n",
    "    data = json.load(f)\n",
    "print(f\"Loaded {len(data):,} lines.\")"
   ]
  },
  {
   "cell_type": "code",
   "execution_count": 3,
   "id": "c3e77135",
   "metadata": {},
   "outputs": [
    {
     "data": {
      "text/html": [
       "<div>\n",
       "<style scoped>\n",
       "    .dataframe tbody tr th:only-of-type {\n",
       "        vertical-align: middle;\n",
       "    }\n",
       "\n",
       "    .dataframe tbody tr th {\n",
       "        vertical-align: top;\n",
       "    }\n",
       "\n",
       "    .dataframe thead th {\n",
       "        text-align: right;\n",
       "    }\n",
       "</style>\n",
       "<table border=\"1\" class=\"dataframe\">\n",
       "  <thead>\n",
       "    <tr style=\"text-align: right;\">\n",
       "      <th></th>\n",
       "      <th>_id</th>\n",
       "      <th>userWallet</th>\n",
       "      <th>network</th>\n",
       "      <th>protocol</th>\n",
       "      <th>txHash</th>\n",
       "      <th>logId</th>\n",
       "      <th>timestamp</th>\n",
       "      <th>blockNumber</th>\n",
       "      <th>action</th>\n",
       "      <th>actionData</th>\n",
       "      <th>__v</th>\n",
       "      <th>createdAt</th>\n",
       "      <th>updatedAt</th>\n",
       "    </tr>\n",
       "  </thead>\n",
       "  <tbody>\n",
       "    <tr>\n",
       "      <th>0</th>\n",
       "      <td>{'$oid': '681d38fed63812d4655f571a'}</td>\n",
       "      <td>0x00000000001accfa9cef68cf5371a23025b6d4b6</td>\n",
       "      <td>polygon</td>\n",
       "      <td>aave_v2</td>\n",
       "      <td>0x695c69acf608fbf5d38e48ca5535e118cc213a89e3d6...</td>\n",
       "      <td>0x695c69acf608fbf5d38e48ca5535e118cc213a89e3d6...</td>\n",
       "      <td>1629178166</td>\n",
       "      <td>1629178166</td>\n",
       "      <td>deposit</td>\n",
       "      <td>{'type': 'Deposit', 'amount': '2000000000', 'a...</td>\n",
       "      <td>0</td>\n",
       "      <td>{'$date': '2025-05-08T23:06:39.465Z'}</td>\n",
       "      <td>{'$date': '2025-05-08T23:06:39.465Z'}</td>\n",
       "    </tr>\n",
       "    <tr>\n",
       "      <th>1</th>\n",
       "      <td>{'$oid': '681aa70dd6df53021cc6f3c0'}</td>\n",
       "      <td>0x000000000051d07a4fb3bd10121a343d85818da6</td>\n",
       "      <td>polygon</td>\n",
       "      <td>aave_v2</td>\n",
       "      <td>0xe6fc162c86b2928b0ba9b82bda672763665152b9de9d...</td>\n",
       "      <td>0xe6fc162c86b2928b0ba9b82bda672763665152b9de9d...</td>\n",
       "      <td>1621525013</td>\n",
       "      <td>1621525013</td>\n",
       "      <td>deposit</td>\n",
       "      <td>{'type': 'Deposit', 'amount': '145000000000000...</td>\n",
       "      <td>0</td>\n",
       "      <td>{'$date': '2025-05-07T00:19:26.159Z'}</td>\n",
       "      <td>{'$date': '2025-05-07T00:19:26.159Z'}</td>\n",
       "    </tr>\n",
       "    <tr>\n",
       "      <th>2</th>\n",
       "      <td>{'$oid': '681d04c2d63812d4654c733e'}</td>\n",
       "      <td>0x000000000096026fb41fc39f9875d164bd82e2dc</td>\n",
       "      <td>polygon</td>\n",
       "      <td>aave_v2</td>\n",
       "      <td>0xe2d7eb815c89331a734ed6f204a06c385a1b39040baa...</td>\n",
       "      <td>0xe2d7eb815c89331a734ed6f204a06c385a1b39040baa...</td>\n",
       "      <td>1627118913</td>\n",
       "      <td>1627118913</td>\n",
       "      <td>deposit</td>\n",
       "      <td>{'type': 'Deposit', 'amount': '100000000000000...</td>\n",
       "      <td>0</td>\n",
       "      <td>{'$date': '2025-05-08T19:23:47.877Z'}</td>\n",
       "      <td>{'$date': '2025-05-08T19:23:47.877Z'}</td>\n",
       "    </tr>\n",
       "    <tr>\n",
       "      <th>3</th>\n",
       "      <td>{'$oid': '681d133bd63812d46551b6ef'}</td>\n",
       "      <td>0x000000000096026fb41fc39f9875d164bd82e2dc</td>\n",
       "      <td>polygon</td>\n",
       "      <td>aave_v2</td>\n",
       "      <td>0x0d63a2eacd82b82f868db825ea7385e6bd8d046ee729...</td>\n",
       "      <td>0x0d63a2eacd82b82f868db825ea7385e6bd8d046ee729...</td>\n",
       "      <td>1627773318</td>\n",
       "      <td>1627773318</td>\n",
       "      <td>deposit</td>\n",
       "      <td>{'type': 'Deposit', 'amount': '400000000000000...</td>\n",
       "      <td>0</td>\n",
       "      <td>{'$date': '2025-05-08T20:25:33.141Z'}</td>\n",
       "      <td>{'$date': '2025-05-08T20:25:33.141Z'}</td>\n",
       "    </tr>\n",
       "    <tr>\n",
       "      <th>4</th>\n",
       "      <td>{'$oid': '681899e4ba49fc91cf2f4454'}</td>\n",
       "      <td>0x0000000000e189dd664b9ab08a33c4839953852c</td>\n",
       "      <td>polygon</td>\n",
       "      <td>aave_v2</td>\n",
       "      <td>0x590eabb812c5006a6f4766f44e6e9d3ad0b5b563de69...</td>\n",
       "      <td>0x590eabb812c5006a6f4766f44e6e9d3ad0b5b563de69...</td>\n",
       "      <td>1618845907</td>\n",
       "      <td>1618845907</td>\n",
       "      <td>redeemunderlying</td>\n",
       "      <td>{'type': 'RedeemUnderlying', 'amount': '501548...</td>\n",
       "      <td>0</td>\n",
       "      <td>{'$date': '2025-05-05T10:58:45.934Z'}</td>\n",
       "      <td>{'$date': '2025-05-05T10:58:45.934Z'}</td>\n",
       "    </tr>\n",
       "  </tbody>\n",
       "</table>\n",
       "</div>"
      ],
      "text/plain": [
       "                                    _id  \\\n",
       "0  {'$oid': '681d38fed63812d4655f571a'}   \n",
       "1  {'$oid': '681aa70dd6df53021cc6f3c0'}   \n",
       "2  {'$oid': '681d04c2d63812d4654c733e'}   \n",
       "3  {'$oid': '681d133bd63812d46551b6ef'}   \n",
       "4  {'$oid': '681899e4ba49fc91cf2f4454'}   \n",
       "\n",
       "                                   userWallet  network protocol  \\\n",
       "0  0x00000000001accfa9cef68cf5371a23025b6d4b6  polygon  aave_v2   \n",
       "1  0x000000000051d07a4fb3bd10121a343d85818da6  polygon  aave_v2   \n",
       "2  0x000000000096026fb41fc39f9875d164bd82e2dc  polygon  aave_v2   \n",
       "3  0x000000000096026fb41fc39f9875d164bd82e2dc  polygon  aave_v2   \n",
       "4  0x0000000000e189dd664b9ab08a33c4839953852c  polygon  aave_v2   \n",
       "\n",
       "                                              txHash  \\\n",
       "0  0x695c69acf608fbf5d38e48ca5535e118cc213a89e3d6...   \n",
       "1  0xe6fc162c86b2928b0ba9b82bda672763665152b9de9d...   \n",
       "2  0xe2d7eb815c89331a734ed6f204a06c385a1b39040baa...   \n",
       "3  0x0d63a2eacd82b82f868db825ea7385e6bd8d046ee729...   \n",
       "4  0x590eabb812c5006a6f4766f44e6e9d3ad0b5b563de69...   \n",
       "\n",
       "                                               logId   timestamp  blockNumber  \\\n",
       "0  0x695c69acf608fbf5d38e48ca5535e118cc213a89e3d6...  1629178166   1629178166   \n",
       "1  0xe6fc162c86b2928b0ba9b82bda672763665152b9de9d...  1621525013   1621525013   \n",
       "2  0xe2d7eb815c89331a734ed6f204a06c385a1b39040baa...  1627118913   1627118913   \n",
       "3  0x0d63a2eacd82b82f868db825ea7385e6bd8d046ee729...  1627773318   1627773318   \n",
       "4  0x590eabb812c5006a6f4766f44e6e9d3ad0b5b563de69...  1618845907   1618845907   \n",
       "\n",
       "             action                                         actionData  __v  \\\n",
       "0           deposit  {'type': 'Deposit', 'amount': '2000000000', 'a...    0   \n",
       "1           deposit  {'type': 'Deposit', 'amount': '145000000000000...    0   \n",
       "2           deposit  {'type': 'Deposit', 'amount': '100000000000000...    0   \n",
       "3           deposit  {'type': 'Deposit', 'amount': '400000000000000...    0   \n",
       "4  redeemunderlying  {'type': 'RedeemUnderlying', 'amount': '501548...    0   \n",
       "\n",
       "                               createdAt  \\\n",
       "0  {'$date': '2025-05-08T23:06:39.465Z'}   \n",
       "1  {'$date': '2025-05-07T00:19:26.159Z'}   \n",
       "2  {'$date': '2025-05-08T19:23:47.877Z'}   \n",
       "3  {'$date': '2025-05-08T20:25:33.141Z'}   \n",
       "4  {'$date': '2025-05-05T10:58:45.934Z'}   \n",
       "\n",
       "                               updatedAt  \n",
       "0  {'$date': '2025-05-08T23:06:39.465Z'}  \n",
       "1  {'$date': '2025-05-07T00:19:26.159Z'}  \n",
       "2  {'$date': '2025-05-08T19:23:47.877Z'}  \n",
       "3  {'$date': '2025-05-08T20:25:33.141Z'}  \n",
       "4  {'$date': '2025-05-05T10:58:45.934Z'}  "
      ]
     },
     "execution_count": 3,
     "metadata": {},
     "output_type": "execute_result"
    }
   ],
   "source": [
    "# Convert each line into a dictionary (JSON object)\n",
    "df = pd.DataFrame(data[:10000])\n",
    "df.head()"
   ]
  },
  {
   "cell_type": "code",
   "execution_count": 4,
   "id": "70aac72a",
   "metadata": {},
   "outputs": [
    {
     "name": "stdout",
     "output_type": "stream",
     "text": [
      "<class 'pandas.core.frame.DataFrame'>\n",
      "RangeIndex: 10000 entries, 0 to 9999\n",
      "Data columns (total 13 columns):\n",
      " #   Column       Non-Null Count  Dtype \n",
      "---  ------       --------------  ----- \n",
      " 0   _id          10000 non-null  object\n",
      " 1   userWallet   10000 non-null  object\n",
      " 2   network      10000 non-null  object\n",
      " 3   protocol     10000 non-null  object\n",
      " 4   txHash       10000 non-null  object\n",
      " 5   logId        10000 non-null  object\n",
      " 6   timestamp    10000 non-null  int64 \n",
      " 7   blockNumber  10000 non-null  int64 \n",
      " 8   action       10000 non-null  object\n",
      " 9   actionData   10000 non-null  object\n",
      " 10  __v          10000 non-null  int64 \n",
      " 11  createdAt    10000 non-null  object\n",
      " 12  updatedAt    10000 non-null  object\n",
      "dtypes: int64(3), object(10)\n",
      "memory usage: 1015.8+ KB\n"
     ]
    }
   ],
   "source": [
    "df.info()"
   ]
  },
  {
   "cell_type": "code",
   "execution_count": 5,
   "id": "74e9e864",
   "metadata": {},
   "outputs": [
    {
     "data": {
      "text/plain": [
       "action\n",
       "deposit             4373\n",
       "borrow              2054\n",
       "redeemunderlying    1968\n",
       "repay               1592\n",
       "liquidationcall       13\n",
       "Name: count, dtype: int64"
      ]
     },
     "execution_count": 5,
     "metadata": {},
     "output_type": "execute_result"
    }
   ],
   "source": [
    "# Get top active type\n",
    "df['action'].value_counts()"
   ]
  },
  {
   "cell_type": "code",
   "execution_count": 6,
   "id": "bd52ca52",
   "metadata": {},
   "outputs": [
    {
     "name": "stdout",
     "output_type": "stream",
     "text": [
      "Unique userWallet count: 3,497\n"
     ]
    }
   ],
   "source": [
    "# Get no of unique userWallets\n",
    "user_wallets = [record.get('userWallet') for record in data if 'userWallet' in record]\n",
    "\n",
    "# Create a DataFrame from the userWallets\n",
    "df = pd.DataFrame(user_wallets, columns=['userWallet'])\n",
    "\n",
    "# Count unique userWallets\n",
    "unique_wallet_count = df['userWallet'].nunique()\n",
    "\n",
    "print(f\"Unique userWallet count: {unique_wallet_count:,}\")"
   ]
  },
  {
   "cell_type": "code",
   "execution_count": 7,
   "id": "f3b37b55",
   "metadata": {},
   "outputs": [
    {
     "data": {
      "text/plain": [
       "userWallet\n",
       "0x05c9db563db8e38cc2899297da41ce430b61a484    14265\n",
       "0x0298b2ecdef68bc139b098461217a5b3161b69c8     1227\n",
       "0x04d9f6ecd792e48a09fa5dc2138baed8e628a7e5     1089\n",
       "0x047a96ef72d7ee6a3f193bdb92e998fb300265df      820\n",
       "0x005f16f017aa933bb41965b52848ceb8ee48b171      767\n",
       "Name: count, dtype: int64"
      ]
     },
     "execution_count": 7,
     "metadata": {},
     "output_type": "execute_result"
    }
   ],
   "source": [
    "# Get top 5 most active wallets\n",
    "top_wallets = df['userWallet'].value_counts().head()\n",
    "top_wallets"
   ]
  },
  {
   "cell_type": "code",
   "execution_count": 8,
   "id": "32b1d239",
   "metadata": {},
   "outputs": [
    {
     "name": "stdout",
     "output_type": "stream",
     "text": [
      "Most active wallet: 0x05c9db563db8e38cc2899297da41ce430b61a484\n",
      "Total transactions for this wallet: 14,265\n"
     ]
    }
   ],
   "source": [
    "# Transactions for the most active wallet\n",
    "# find the most active wallet\n",
    "most_active_wallet = df['userWallet'].value_counts().idxmax()\n",
    "print(f\"Most active wallet: {most_active_wallet}\")\n",
    "# filter the DataFrame for this wallet\n",
    "wallet_df = df[df['userWallet'] == most_active_wallet]\n",
    "print(f\"Total transactions for this wallet: {len(wallet_df):,}\")\n"
   ]
  },
  {
   "cell_type": "code",
   "execution_count": null,
   "id": "b70adcf5",
   "metadata": {},
   "outputs": [],
   "source": []
  }
 ],
 "metadata": {
  "kernelspec": {
   "display_name": "Python 3",
   "language": "python",
   "name": "python3"
  },
  "language_info": {
   "codemirror_mode": {
    "name": "ipython",
    "version": 3
   },
   "file_extension": ".py",
   "mimetype": "text/x-python",
   "name": "python",
   "nbconvert_exporter": "python",
   "pygments_lexer": "ipython3",
   "version": "3.13.5"
  }
 },
 "nbformat": 4,
 "nbformat_minor": 5
}
